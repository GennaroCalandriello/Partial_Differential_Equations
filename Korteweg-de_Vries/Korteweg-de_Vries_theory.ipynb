{
 "cells": [
  {
   "cell_type": "markdown",
   "metadata": {},
   "source": [
    "<h2> Korteweg-de Vries equation </h2>"
   ]
  },
  {
   "cell_type": "markdown",
   "metadata": {},
   "source": [
    "In mathematics, the Korteweg–De Vries (KdV) equation is a mathematical model of waves on shallow water surfaces. It is particularly notable as the prototypical example of an exactly solvable model, that is, a non-linear partial differential equation whose solutions can be exactly and precisely specified. [Wikipedia] \n",
    "Here we resolve this nonlinear equation by a spectral method through Fast Fourier Transform library of Numpy. \n",
    "The KdV equation reads:\n",
    "\n",
    "$$\n",
    "\\partial u_t + u \\partial_x u +\\delta^2 \\partial_{xxx}u=0 \\qquad \\delta^2=0.022\\\\\n",
    "$$\n",
    "\n",
    "$$\n",
    "\\mathfrak{F}[u(x, t)] = \\hat{u}(k, t) \\\\\n",
    "$$\n",
    "\n",
    "$$\n",
    "\\mathfrak{F}[\\partial u_x(x, t)] = i k\\hat{u}\\\\\n",
    "$$\n",
    "\n",
    "$$\n",
    "\\mathfrak{F}[\\partial u_{xxx}(x, t)]=i^3k^3\\hat{u}\\\\\n",
    "$$\n",
    "\n",
    "Through the Fourier transform we can rewrite the KdV equation as:\n",
    "\n",
    "$$\n",
    "\\partial \\hat{u}_t= -ik\\hat{u}^2+\\delta^2 ik^3\\hat{u}\n",
    "$$\n",
    "\n",
    "Continue, incomplete...\n"
   ]
  }
 ],
 "metadata": {
  "language_info": {
   "name": "python"
  },
  "orig_nbformat": 4
 },
 "nbformat": 4,
 "nbformat_minor": 2
}
