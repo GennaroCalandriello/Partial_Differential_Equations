{
 "cells": [
  {
   "cell_type": "markdown",
   "metadata": {},
   "source": [
    "<h2> Van der Pol equation </h2>\n",
    "The equation of the Fokker Planck associated to a Van der Pol oscillator is the following: \n",
    "\n",
    "$$\n",
    "\\frac{\\partial P}{\\partial t}=\\frac{\\partial}{\\partial x}(-g(y) P)+\\frac{\\partial}{\\partial y}(f(x, y) P)+D\\frac{\\partial^2}{\\partial y^2}P\n",
    "$$"
   ]
  },
  {
   "cell_type": "markdown",
   "metadata": {},
   "source": [
    "<h3> ADI Method </h3>\n",
    "We can use the <strong>Alternate Direct Implicit</strong> Method to integrate the Fokker Planck with a Gaussian probability distribution function as initial condition. This method consists in integrating alternatively implicitly on x and explicitly on y and after explicitly on x and implicitly on y, with an accurance of second order in time, $O(t^2)$. The ADI scheme is the following:\n",
    "\n",
    "The <strong>1st step</strong> step (implicit on x, explicit on y) is the following:\n",
    "\n",
    "$$\n",
    "\\frac{P^{n+1/2}_{i, j}-P^{n}_{i, j}}{\\Delta t/2}=-(g^{n+1/2}_{i+1, j}P^{n+1/2}_{i+1, j}-g^{n+1/2}_{i-1, j}P^{n+1/2}_{i-1, j})\\frac{1}{2\\Delta x}+(f^{n}_{i, j+1}P^{n}_{i, j+1}-f^{n}_{i, j-1}P^{n}_{i, j-1})\\frac{1}{2\\Delta y}\\\\\n",
    "        +D\\frac{P^{n}_{i, j+1}-2P^{n}_{i, j}+P^{n}_{i, j-1}}{\\Delta y^2} \n",
    "        \n",
    "$$\n",
    "\n",
    "where we indicated with $g^n_i$ and with $f^n_i$ the drift functions associated to FP. In the continuum case we have:\n",
    "\n",
    "$$\n",
    "g(y)=y\\\\\n",
    "f(x, y)=(x-a(1-x^2)y) \\qquad a=0.1\n",
    "$$\n",
    "\n",
    "or in case we introduce a periodic drift we have $f(x, y, t) = (x-a \\cos(\\omega t)(1-x^2)y) $ with $a=0.1$, $\\omega=0.3$ \n",
    "\n",
    "The <strong>2nd step</strong> is implicit on y and explicit on x and the scheme continues as:\n",
    "\n",
    "$$\n",
    "\\frac{P^{n+1}_{i, j}-P^{n+1/2}_{i, j}}{\\Delta t/2}=-(g^{n+1/2}_{i+1, j}P^{n+1/2}_{i+1, j}-g^{n+1/2}_{i-1, j}P^{n+1/2}_{i-1, j})\\frac{1}{2\\Delta x}+(f^{n+1}_{i, j+1}P^{n+1}_{i, j+1}-f^{n}_{i, j-1}P^{n+1}_{i, j-1})\\frac{1}{2\\Delta y}\\\\\n",
    "        +D\\frac{P^{n+1}_{i, j+1}-2P^{n}_{i, j}+P^{n+1}_{i, j-1}}{\\Delta y^2} \n",
    "$$\n",
    "\n",
    "The resolution of the $N-2$ systems of algebraic equations associated with the implicit part of the two steps written above are resolved by a Thomas algorithm. The details of the implementation with comments are treated in the $.py$ files.\n"
   ]
  }
 ],
 "metadata": {
  "language_info": {
   "name": "python"
  },
  "orig_nbformat": 4
 },
 "nbformat": 4,
 "nbformat_minor": 2
}
