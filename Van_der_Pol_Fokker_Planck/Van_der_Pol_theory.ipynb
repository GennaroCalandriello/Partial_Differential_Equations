{
 "cells": [
  {
   "cell_type": "markdown",
   "metadata": {},
   "source": [
    "<h2> Van der Pol equation </h2>\n",
    "The equation of the Fokker ulanck associated to a Van der Pol oscillator is the following: \n",
    "\n",
    "$$\n",
    "\\frac{\\partial u}{\\partial t}=\\frac{\\partial}{\\partial x}(-g(y) u)+\\frac{\\partial}{\\partial y}(f(x, y) u)+D\\frac{\\partial^2}{\\partial y^2}u\n",
    "$$"
   ]
  },
  {
   "cell_type": "markdown",
   "metadata": {},
   "source": [
    "<h3> ADI Method </h3>\n",
    "We can use the <strong>Alternate Direct Implicit</strong> Method to integrate the Fokker Planck with a Gaussian probability distribution function as initial condition. This method consists in integrating alternatively implicitly on x and explicitly on y and after explicitly on x and implicitly on y, with an accurance of second order in time, $O(t^2)$. The ADI scheme is the following:\n",
    "\n",
    "The <strong>1st step</strong> step (implicit on x, explicit on y) is the following:\n",
    "\n",
    "$$\n",
    "\\frac{u^{n+1/2}_{i, j}-u^{n}_{i, j}}{\\Delta t/2}=-(g^{n+1/2}_{i+1, j}u^{n+1/2}_{i+1, j}-g^{n+1/2}_{i-1, j}u^{n+1/2}_{i-1, j})\\frac{1}{2\\Delta x}+(f^{n}_{i, j+1}u^{n}_{i, j+1}-f^{n}_{i, j-1}u^{n}_{i, j-1})\\frac{1}{2\\Delta y}\\\\\n",
    "        +D\\frac{u^{n}_{i, j+1}-2u^{n}_{i, j}+u^{n}_{i, j-1}}{\\Delta y^2} \n",
    "        \n",
    "$$\n",
    "\n",
    "where we indicated with $g^n_i$ and with $f^n_i$ the drift functions associated to FP. In the continuum case we have:\n",
    "\n",
    "$$\n",
    "g(y)=y\\\\\n",
    "f(x, y)=(x-a(1-x^2)y) \\qquad a=0.1\n",
    "$$\n",
    "\n",
    "or in case we introduce a periodic drift we have $f(x, y, t) = (x-a \\cos(\\omega t)(1-x^2)y) $ with $a=0.1$, $\\omega=0.3$ \n",
    "\n",
    "The <strong>2nd step</strong> is implicit on y and explicit on x and the scheme continues as:\n",
    "\n",
    "$$\n",
    "\\frac{u^{n+1}_{i, j}-u^{n+1/2}_{i, j}}{\\Delta t/2}=-(g^{n+1/2}_{i+1, j}u^{n+1/2}_{i+1, j}-g^{n+1/2}_{i-1, j}u^{n+1/2}_{i-1, j})\\frac{1}{2\\Delta x}+(f^{n+1}_{i, j+1}u^{n+1}_{i, j+1}-f^{n}_{i, j-1}u^{n+1}_{i, j-1})\\frac{1}{2\\Delta y}\\\\\n",
    "        +D\\frac{u^{n+1}_{i, j+1}-2u^{n}_{i, j}+u^{n+1}_{i, j-1}}{\\Delta y^2} \n",
    "$$\n",
    "\n",
    "The resolution of the $N-2$ systems of algebraic equations associated with the implicit part of the two steps written above are resolved by a Thomas algorithm. The details of the implementation with comments are treated in the $.py$ files.\n"
   ]
  },
  {
   "cell_type": "markdown",
   "metadata": {},
   "source": [
    "In the following repository there's also the explicit integration scheme, that is the following:\n",
    "\n",
    "$$\n",
    "\\frac{u^{n+1}_{i,j}-u^{n}_{i,j}}{\\Delta t}=u^{n}_{i,j} \\left [ -\\frac{g(x+dx, y)-g(x-dx, y)}{2\\Delta x} + \\frac{f(x, y+dy)-f(x, y-dy)}{2\\Delta y}\\right] \\\\+ g(x, y) \\left[ \\frac{u^{n}_{i+1,j}-u^{n}_{i-1,j}}{2\\Delta x}\\right]+ f(x, y)\\left[\\frac{u^{n}_{i,j+1}-u^{n}_{i,j-1}}{2\\Delta y}\\right]\\\\ + D\\left[ \\frac{u^n_{i, j+1}-2u^n_{i, j}+u^n_{i, j-1}}{\\Delta y^2} \\right]\n",
    "$$\n",
    "This scheme is less stable wrt the ADI method. However it gives coherent result for small diffusion parameter, in the stabilit range."
   ]
  }
 ],
 "metadata": {
  "language_info": {
   "name": "python"
  },
  "orig_nbformat": 4
 },
 "nbformat": 4,
 "nbformat_minor": 2
}
