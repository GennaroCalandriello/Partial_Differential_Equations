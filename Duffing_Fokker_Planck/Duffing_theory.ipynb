{
 "cells": [
  {
   "cell_type": "markdown",
   "metadata": {},
   "source": [
    "<h2> Duffing Fokker Planck </h2>\n",
    "\n",
    "The following equation represents a FP of a Duffing oscillator:\n",
    "\n",
    "$$\n",
    "\\frac{\\partial p}{\\partial t}=-\\frac{\\partial (y u)}{\\partial x}-\\frac{\\partial [(\\omega_0^2 x(1-a^2x^2)-2\\omega_b y)u]}{\\partial y}+D\\frac{\\partial^2 u}{\\partial y^2}\n",
    "$$\n",
    "\n",
    "with $\\omega_0=1$, $\\omega_b=0.05$, $\\alpha^2=0.1$, $D=$ as you prefer"
   ]
  },
  {
   "cell_type": "markdown",
   "metadata": {},
   "source": [
    "The Alternate Direction Implicit Scheme for this equation is rapidly calculated as follow:\n"
   ]
  },
  {
   "cell_type": "markdown",
   "metadata": {},
   "source": []
  },
  {
   "cell_type": "markdown",
   "metadata": {},
   "source": []
  }
 ],
 "metadata": {
  "language_info": {
   "name": "python"
  },
  "orig_nbformat": 4
 },
 "nbformat": 4,
 "nbformat_minor": 2
}
